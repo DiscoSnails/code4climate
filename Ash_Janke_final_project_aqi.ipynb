{
  "cells": [
    {
      "cell_type": "markdown",
      "metadata": {
        "id": "view-in-github",
        "colab_type": "text"
      },
      "source": [
        "<a href=\"https://colab.research.google.com/github/DiscoSnails/code4climate/blob/main/Ash_Janke_final_project_aqi.ipynb\" target=\"_parent\"><img src=\"https://colab.research.google.com/assets/colab-badge.svg\" alt=\"Open In Colab\"/></a>"
      ]
    },
    {
      "cell_type": "code",
      "source": [
        "# Input The Data Files\n",
        "import pandas as pd\n",
        "\n",
        "data1 = pd.read_csv('clean_20211224.csv')\n",
        "data2 = pd.read_csv('clean_20211225.csv')\n",
        "data3 = pd.read_csv('clean_20220131.csv')\n",
        "data4 = pd.read_csv('clean_20220215.csv')\n",
        "data5 = pd.read_csv('clean_20220316.csv')\n",
        "data6 = pd.read_csv('clean_20220704.csv')\n",
        "data7 = pd.read_csv('clean_20221030.csv')\n",
        "data8 = pd.read_csv('clean_20221031.csv')\n",
        "data9 = pd.read_csv('clean_20221222.csv')\n",
        "data10 = pd.read_csv('clean_20221225.csv')\n",
        "data11 = pd.read_csv('clean_20230617.csv')\n",
        "data12 = pd.read_csv('clean_20230627.csv')\n",
        "data13 = pd.read_csv('clean_20230704.csv')\n",
        "data14 = pd.read_csv('clean_20230716.csv')\n",
        "data15 = pd.read_csv('clean_20230725.csv')\n",
        "data16 = pd.read_csv('clean_20230726.csv')\n"
      ],
      "metadata": {
        "id": "ZoyoaDrp3Ven"
      },
      "id": "ZoyoaDrp3Ven",
      "execution_count": null,
      "outputs": []
    },
    {
      "cell_type": "code",
      "source": [
        "def userinput():\n",
        "  year = input(\"Enter The Year: \")\n",
        "  month = input(\"Enter The Month: \")\n",
        "  date = input(\"Enter The Date: \")\n",
        "\n",
        "  import os\n",
        "  filelist = os.listdir('.')\n",
        "\n",
        "  filename= 'clean_'+year+month+date+'.csv'\n",
        "\n",
        "  testVar=0\n",
        "  for files in filelist:\n",
        "    if files == filename:\n",
        "      testVar=1\n",
        "  if testVar == 1:\n",
        "    return filename\n",
        "  else:\n",
        "    print('I Do Not Have Data For That Time! Please Try Again!')\n",
        "    return userinput()\n",
        "\n",
        "data1 = pd.read_csv(userinput())\n",
        "\n",
        "dataset = data1\n",
        "\n",
        "# PM2.5\n",
        "PM2 = dataset['PM2.5'].mean()\n",
        "print('The Average PM2.5 Concentrations For This Day Is', PM2)\n",
        "\n",
        "# PM10\n",
        "PM10 = dataset['PM10'].mean()\n",
        "print('The Average PM10 Concentrations For This Day Is', PM10)\n",
        "\n",
        "# PM2.5 And PM10 Plot Concentrations (Line Plot)\n",
        "\n",
        "import matplotlib.pyplot as plt\n",
        "x = dataset['hour']\n",
        "y = dataset['PM2.5']\n",
        "z = dataset['PM10']\n",
        "plt.scatter(x, z)\n",
        "plt.scatter(x, y)\n",
        "\n",
        "\n",
        "# AQI Calc\n",
        "  # PM2 AQI Calc\n",
        "if PM2 >= 0.0 and PM2 <= 12.0:\n",
        "  print('The Air Index Quality (AIQ) For This Day Is ', 50/12*PM2)\n",
        "elif PM2 >= 12.1 and PM2 <= 35.4:\n",
        "  print('The Air Index Quality (AIQ) For This Day Is ',(100-51)/(35.4-12.1)*(PM2-12.1)+51)\n",
        "elif PM2 >= 35.5 and PM2 <= 55.4:\n",
        "  print('The Air Index Quality (AIQ) For This Day Is ',(150-101)/(55.4-35.5)*(PM2-35.5)+101)\n",
        "elif PM2 >= 55.5 and PM2 <= 150.4:\n",
        "  print('The Air Index Quality (AIQ) For This Day Is ',(200-151)/(150.4-55.5)*(PM2-55.5)+151)\n",
        "elif PM2 >= 150.5 and PM2 <= 250.4:\n",
        "  print('The Air Index Quality (AIQ) For This Day Is ',(300-201)/(250.4-150.5)*(PM2-150.5)+201)\n",
        "elif PM2 >= 250.5 and PM2 <= 350.4:\n",
        "  print('The Air Index Quality (AIQ) For This Day Is ',(400-301)/(350.4-250.5)*(PM2-250.5)+301)\n",
        "elif PM2 >= 350.5 and PM2 <= 500.4:\n",
        "  print('The Air Index Quality (AIQ) For This Day Is ',(500-401)/(500.4-350.5)*(PM2-350.5)+401)\n",
        "else:\n",
        "  print('I have no idea how you did this. Proly a bug on my end :/')\n",
        "\n",
        "\n",
        "  # PM10 AQI Calc\n",
        "if PM10 >= 0.0 and PM10 <= 54.0:\n",
        "  print('The Air Index Quality (AIQ) For This Day Is ', 50/54*PM10)\n",
        "elif PM10 >= 55 and PM10 <= 154:\n",
        "  print('The Air Index Quality (AIQ) For This Day Is ',(100-51)/(154-55)*(PM10-55)+51)\n",
        "elif PM10 >= 155 and PM10 <= 254:\n",
        "  print('The Air Index Quality (AIQ) For This Day Is ',(150-101)/(254-155)*(PM10-155)+101)\n",
        "elif PM10 >= 255 and PM10 <= 354:\n",
        "  print('The Air Index Quality (AIQ) For This Day Is ',(200-151)/(354-255)*(PM10-255)+151)\n",
        "elif PM10 >= 355 and PM10 <= 424:\n",
        "  print('The Air Index Quality (AIQ) For This Day Is ',(300-201)/(424-355)*(PM10-355)+201)\n",
        "elif PM10 >= 425 and PM10 <= 504:\n",
        "  print('The Air Index Quality (AIQ) For This Day Is ',(400-301)/(504-425)*(PM10-425)+301)\n",
        "elif PM10 >= 505 and PM10 <= 604:\n",
        "  print('The Air Index Quality (AIQ) For This Day Is ',(500-401)/(604-505)*(PM10-505)+401)\n",
        "else:\n",
        "  print('I have no idea how you did this. Proly a bug on my end :/')"
      ],
      "metadata": {
        "id": "MGVieS3h0Ag5",
        "colab": {
          "base_uri": "https://localhost:8080/",
          "height": 499
        },
        "outputId": "21e6f9c6-28c3-47a9-8df2-8f6624043be7"
      },
      "id": "MGVieS3h0Ag5",
      "execution_count": 22,
      "outputs": [
        {
          "output_type": "stream",
          "name": "stdout",
          "text": [
            "The Average PM2.5 Concentrations For This Day Is 38.958178160919545\n",
            "The Average PM10 Concentrations For This Day Is 48.23760440613027\n",
            "109.51511205452552\n",
            " 44.66444852419469\n"
          ]
        },
        {
          "output_type": "display_data",
          "data": {
            "text/plain": [
              "<Figure size 640x480 with 1 Axes>"
            ],
            "image/png": "[encoded data removed]"
          },
          "metadata": {}
        }
      ]
    }
  ],
  "metadata": {
    "colab": {
      "provenance": [],
      "include_colab_link": true
    },
    "language_info": {
      "name": "python"
    },
    "kernelspec": {
      "name": "python3",
      "display_name": "Python 3"
    }
  },
  "nbformat": 4,
  "nbformat_minor": 5
}