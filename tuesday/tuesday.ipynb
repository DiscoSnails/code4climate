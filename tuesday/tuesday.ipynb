{
  "cells": [
    {
      "cell_type": "markdown",
      "metadata": {
        "id": "view-in-github",
        "colab_type": "text"
      },
      "source": [
        "<a href=\"https://colab.research.google.com/github/DiscoSnails/code4climate/blob/main/tuesday/tuesday.ipynb\" target=\"_parent\"><img src=\"https://colab.research.google.com/assets/colab-badge.svg\" alt=\"Open In Colab\"/></a>"
      ]
    },
    {
      "cell_type": "markdown",
      "source": [
        "# ***Topics to be covered:***\n",
        "\n",
        "\n",
        "*   Basic data types and syntax\n",
        "*   Control structures\n",
        "*   Important data structures\n",
        "*   Function declarations\n",
        "\n"
      ],
      "metadata": {
        "id": "6LhNrevdKwO2"
      }
    },
    {
      "cell_type": "markdown",
      "source": [
        "# ***Comments in Our Code:***\n",
        "\n",
        "*Comments are useful for us to understand the code when we look at it at a later time. *\n",
        "\n",
        "`#` *used for in line comments*\n",
        "\n",
        "\n",
        "` ''' Multi-line Comments '''` Remember this only works in python (.py) files and does not work in notebook (.ipynb) files.\n",
        "\n",
        "\n",
        "\n"
      ],
      "metadata": {
        "id": "uOhvU5rtLvi6"
      }
    },
    {
      "cell_type": "code",
      "source": [
        "# This entire line is commented\n",
        "# This line is commented too\n",
        "\n",
        "print(\" anything after # in a single line is commented or ignored by the python program \") # This is commented too\n",
        "\n",
        "\n"
      ],
      "metadata": {
        "id": "UfRN4JHPMihj",
        "outputId": "aab6b784-c01e-4c97-88d9-fb7c96eeedaf",
        "colab": {
          "base_uri": "https://localhost:8080/"
        }
      },
      "execution_count": 77,
      "outputs": [
        {
          "output_type": "stream",
          "name": "stdout",
          "text": [
            " anything after # in a single line is commented or ignored by the python program \n"
          ]
        }
      ]
    },
    {
      "cell_type": "markdown",
      "source": [
        "# ***Demonstrate an Example Code***"
      ],
      "metadata": {
        "id": "77XAG8Gpr9-0"
      }
    },
    {
      "cell_type": "code",
      "source": [
        "# Example Code Demonstration\n",
        "# Mad Lib created by Jesus\n",
        "\n",
        "noun1 = input(\"Please enter a noun: \")\n",
        "noun1=str(noun1)\n",
        "pluralnoun1 = input(\"Please enter a plural noun: \")\n",
        "pluralnoun1=str(pluralnoun1)\n",
        "noun2 = input(\"Please enter another noun: \")\n",
        "noun2=str(noun2)\n",
        "pluralnoun2 = input(\"Please enter a different plural noun: \")\n",
        "pluralnoun2=str(pluralnoun2)\n",
        "print(\"Once that's done, I get some \" + pluralnoun1 + \", and then its off to my first \" + noun1 + \".\")\n",
        "#Story\n",
        "print(\"Every day, the mighty \" + noun1 + \" walked across the river known as the Magical River of Life \")\n",
        "print(\"One day, while walking on the river, the scary \" + pluralnoun1 + \" suddenly appeared in a group, and were determined to take down the \" + noun1 + \"!\")\n",
        "print(\"However, to the relief of the \" + noun1 + \", the feared \" + noun2 + \" came to save the day from the \" + pluralnoun1 + \"!\")\n",
        "print(\"Together, with the help of the \" + pluralnoun2 + \", they managed to scare away the \" + pluralnoun1 + \" and save the \" + noun1 + \"!\")"
      ],
      "metadata": {
        "id": "lEaxImbSsDf-",
        "outputId": "e5a5b4d2-1841-4c16-ee21-5146f913ed5b",
        "colab": {
          "base_uri": "https://localhost:8080/"
        }
      },
      "execution_count": 78,
      "outputs": [
        {
          "output_type": "stream",
          "name": "stdout",
          "text": [
            "Please enter a noun: dave\n",
            "Please enter a plural noun: dave\n",
            "Please enter another noun: dave\n",
            "Please enter a different plural noun: dave\n",
            "Once that's done, I get some dave, and then its off to my first dave.\n",
            "Every day, the mighty dave walked across the river known as the Magical River of Life \n",
            "One day, while walking on the river, the scary dave suddenly appeared in a group, and were determined to take down the dave!\n",
            "However, to the relief of the dave, the feared dave came to save the day from the dave!\n",
            "Together, with the help of the dave, they managed to scare away the dave and save the dave!\n"
          ]
        }
      ]
    },
    {
      "cell_type": "markdown",
      "source": [
        "# ***Variables***\n",
        "\n",
        "*Variables in Python are defined and typed for you when you set a value to them In Python, variable names must follow certain rules:*\n",
        "\n",
        "\n",
        "*   A variable name must start with a letter or the underscore character.\n",
        "*   A variable name cannot start with a number.\n",
        "*   A variable name can only contain alpha-numeric characters and underscores (A-z, 0-9, and _).\n",
        "*   Variable names are case-sensitive (age, Age and AGE are three different variables)\n",
        "\n",
        "\n",
        "\n",
        "---\n",
        "**Always choose variable names so that, the name itself makes sense with what they are going to be used for. Do not choose any variable names so that at a later time when you are looking at the code, you can not get an idea about where that particular variable is used.**\n",
        "\n",
        "\n",
        "Also, do not mix uppercase and lowercase characters when declaring a variable. We recommend using **lowercase characaters**.\n",
        "\n",
        "---\n",
        "\n",
        "\n",
        "\n",
        "*Good variable name selection. Human readable and consistent formating*\n",
        "```\n",
        "noun = 'chair'\n",
        "number_1 = 24\n",
        "year = 2020\n",
        "```\n",
        "\n",
        "*bad variable name selection*\n",
        "```\n",
        "Noun = 'chair'\n",
        "Number1 = 24\n",
        "sdfas = 2020\n",
        "```\n",
        "\n",
        "\n",
        "\n",
        "\n"
      ],
      "metadata": {
        "id": "x_KiWHCTLMZG"
      }
    },
    {
      "cell_type": "code",
      "source": [
        "# Demonstrate some use of variables\n",
        "words = 2"
      ],
      "metadata": {
        "id": "76gmdCXuQrhM"
      },
      "execution_count": 80,
      "outputs": []
    },
    {
      "cell_type": "markdown",
      "source": [
        "# ***`input()` statement***\n",
        "\n",
        "The `input()` function in Python is used to take input from the user. It reads a line of text entered by the user and returns it as a string. The syntax for the `input()` function is as follows:\n",
        "\n",
        "\n",
        "\n",
        "```\n",
        "input([prompt])\n",
        "```\n",
        "Here, the prompt parameter is optional. It is a string that represents a default message before the input. If you want to write a message before the input, you can use this parameter.\n",
        "\n",
        "Here’s an example:\n",
        "\n",
        "\n",
        "\n",
        "```\n",
        "name = input(\"Enter your name: \")\n",
        "print(\"Hello, \", name)\n",
        "\n",
        "```\n",
        "\n",
        "\n",
        "\n"
      ],
      "metadata": {
        "id": "k27CNgN0rO5D"
      }
    },
    {
      "cell_type": "code",
      "source": [
        "# input() statement"
      ],
      "metadata": {
        "id": "S8DPHoA3rnSG"
      },
      "execution_count": null,
      "outputs": []
    },
    {
      "cell_type": "markdown",
      "source": [
        "# ***Python Data Types and Syntax***\n",
        "\n",
        "\n",
        "\n",
        "\n",
        "> *Numerical data types:*\n",
        "  * `a = 33` (integer)\n",
        "  * `a = 33.0` (floating point)\n",
        "  * `a = True` (boolean) ---> can only have 2 values, i.e. 1 for True, 0 for False  \n",
        "\n",
        "> *Characters are strings of length one. Lenth of string is equal to the number of the character in the string.*\n",
        "  * `c = \"u\"` or `c = 'u'`\n",
        "\n",
        "> *Check type of variables with `type()`:*\n",
        "  * `type(33) = int`\n",
        "\n"
      ],
      "metadata": {
        "id": "X4CkRm3VSvh6"
      }
    },
    {
      "cell_type": "code",
      "execution_count": null,
      "metadata": {
        "id": "DwKxq9XbKtPi"
      },
      "outputs": [],
      "source": [
        "my_variable = 2\n",
        "print(my_variable)\n",
        "type(my_variable)"
      ]
    },
    {
      "cell_type": "markdown",
      "metadata": {
        "id": "uPEhGzuFKtPm"
      },
      "source": [
        "\n",
        "***If you accidentally mistype a variable name, Python will not catch it for you. This can lead to bugs that can be hard to track - so beware***"
      ]
    },
    {
      "cell_type": "code",
      "execution_count": 81,
      "metadata": {
        "id": "GpBEv90cKtPo",
        "outputId": "f6e56ebf-2f73-4816-999e-38f488d620dd",
        "colab": {
          "base_uri": "https://localhost:8080/",
          "height": 217
        }
      },
      "outputs": [
        {
          "output_type": "error",
          "ename": "NameError",
          "evalue": "ignored",
          "traceback": [
            "\u001b[0;31m---------------------------------------------------------------------------\u001b[0m",
            "\u001b[0;31mNameError\u001b[0m                                 Traceback (most recent call last)",
            "\u001b[0;32m<ipython-input-81-3d1269e4e8c1>\u001b[0m in \u001b[0;36m<cell line: 1>\u001b[0;34m()\u001b[0m\n\u001b[0;32m----> 1\u001b[0;31m \u001b[0mmy_varible\u001b[0m \u001b[0;34m=\u001b[0m \u001b[0mmy_varible\u001b[0m\u001b[0;34m+\u001b[0m\u001b[0;36m1\u001b[0m\u001b[0;34m\u001b[0m\u001b[0;34m\u001b[0m\u001b[0m\n\u001b[0m\u001b[1;32m      2\u001b[0m \u001b[0mprint\u001b[0m\u001b[0;34m(\u001b[0m\u001b[0mmy_variable\u001b[0m\u001b[0;34m)\u001b[0m\u001b[0;34m\u001b[0m\u001b[0;34m\u001b[0m\u001b[0m\n\u001b[1;32m      3\u001b[0m \u001b[0;34m\u001b[0m\u001b[0m\n\u001b[1;32m      4\u001b[0m \u001b[0;31m# See how the code ran and do not show any errors\u001b[0m\u001b[0;34m\u001b[0m\u001b[0;34m\u001b[0m\u001b[0m\n",
            "\u001b[0;31mNameError\u001b[0m: name 'my_varible' is not defined"
          ]
        }
      ],
      "source": [
        "my_varible = my_variable+1\n",
        "print(my_variable)\n",
        "\n",
        "# See how the code ran and do not show any errors"
      ]
    },
    {
      "cell_type": "markdown",
      "source": [
        "# ***Practice Problem***\n",
        "*Your neighbor has an apple tree and he gives you some apples. You also have some apples from yesterday. Write a code to calculate the total number of apple you have. The program should ask for number of apples your neighbor gives you and the number of apple you had before.*\n"
      ],
      "metadata": {
        "id": "5lNdOWQScSV5"
      }
    },
    {
      "cell_type": "code",
      "source": [
        "# Apple problem codeblocks\n",
        "\n",
        "number_of_apples_neighbor = input(\"Enter the number of apples your neighbor gives you: \")\n",
        "number_of_apples_mine = input(\"Enter the number of apples your already have with you: \")\n",
        "\n",
        "print(int(number_of_apples_neighbor) + int(number_of_apples_mine))\n"
      ],
      "metadata": {
        "id": "OwZdDpBtcRn5",
        "outputId": "8adc0b1b-c8cf-4e40-ebaa-d1c9dab072ca",
        "colab": {
          "base_uri": "https://localhost:8080/"
        }
      },
      "execution_count": 2,
      "outputs": [
        {
          "output_type": "stream",
          "name": "stdout",
          "text": [
            "Enter the number of apples your neighbor gives you: 10\n",
            "Enter the number of apples your already have with you: 5\n",
            "15\n"
          ]
        }
      ]
    },
    {
      "cell_type": "markdown",
      "source": [
        "# ***Types and Typecasting***\n",
        "\n",
        "*Typecasting is a mean to convert the type of variable once it is originally assigned.The usual typecasting is available in Python, so it is easy to convert strings to ints or floats, floats to ints, etc.*"
      ],
      "metadata": {
        "id": "I8eKPIEqVHqh"
      }
    },
    {
      "cell_type": "code",
      "source": [
        "a = \"1\"\n",
        "b = 5\n",
        "print(a+b)"
      ],
      "metadata": {
        "id": "U8UFvEIzUizO"
      },
      "execution_count": null,
      "outputs": []
    },
    {
      "cell_type": "code",
      "source": [
        "a = \"1\"\n",
        "b = 5\n",
        "print(int(a)+b)"
      ],
      "metadata": {
        "id": "bUbc-BojVgYC"
      },
      "execution_count": null,
      "outputs": []
    },
    {
      "cell_type": "markdown",
      "source": [
        "*Note that the typing is dynamic. I.e. a variable that was initally say an integer can become another type (float, string, etc.) via reassignment.*"
      ],
      "metadata": {
        "id": "PNhji7GNV_NS"
      }
    },
    {
      "cell_type": "code",
      "source": [
        "a = \"1\"\n",
        "type(a)\n",
        "print(type(a))\n",
        "\n",
        "a = 1.0\n",
        "print(type(a))"
      ],
      "metadata": {
        "id": "l0LRgZwCViih",
        "outputId": "84b72731-ce17-4a1d-e14e-6b7ec619aeb7",
        "colab": {
          "base_uri": "https://localhost:8080/"
        }
      },
      "execution_count": 4,
      "outputs": [
        {
          "output_type": "stream",
          "name": "stdout",
          "text": [
            "<class 'str'>\n",
            "<class 'float'>\n"
          ]
        }
      ]
    },
    {
      "cell_type": "markdown",
      "source": [
        "*Typecasting is usually required when asking for user input by using the `input()` statement. *\n",
        "\n",
        "\n",
        "\n",
        "```\n",
        "number_1 = int(input(\"Enter a number: \"))\n",
        "number_2 = int(input(\"Enter another number: \"))\n",
        "\n",
        "print(number_1 + number_2)\n",
        "\n",
        "```\n",
        "\n"
      ],
      "metadata": {
        "id": "vqSPnGaqB9CY"
      }
    },
    {
      "cell_type": "code",
      "source": [
        "# input() revisit"
      ],
      "metadata": {
        "id": "UUkIdmMBCp-y"
      },
      "execution_count": null,
      "outputs": []
    },
    {
      "cell_type": "markdown",
      "source": [
        "# ***Mathematical & Logical Operators***\n",
        "\n",
        "*   addition, subtraction, multiplication, division:\n",
        "  * `2+2`, `43-5`, `4*3`, `3/2`\n",
        "\n",
        "\n",
        "*   Modulus\n",
        "  * `3%2 = 1`\n",
        "*   exponentiation\n",
        "  * `2**3 = 8`\n",
        "*   logical operators\n",
        "  * `and`, or, `not`\n",
        "  * `== , != , < , <= , > , >=`\n",
        "\n"
      ],
      "metadata": {
        "id": "sC6fmcdcYRhM"
      }
    },
    {
      "cell_type": "code",
      "source": [
        "print(3/4)\n",
        "print(3.0 / 4.0)\n",
        "print(3%4)\n",
        "print(3//4)\n",
        "print(3**4)"
      ],
      "metadata": {
        "id": "CUbL3RD_brjM",
        "outputId": "49295dd6-5d5d-4e68-8363-ef043c23edf2",
        "colab": {
          "base_uri": "https://localhost:8080/"
        }
      },
      "execution_count": 10,
      "outputs": [
        {
          "output_type": "stream",
          "name": "stdout",
          "text": [
            "0.75\n",
            "0.75\n",
            "3\n",
            "0\n",
            "81\n"
          ]
        }
      ]
    },
    {
      "cell_type": "markdown",
      "source": [
        "# ***print() Statement***\n",
        "*Places output on the screen*\n",
        "```\n",
        "i = 34\n",
        "print(i)\n",
        "```\n",
        "*Use comma between variables you want printed on the same line (i.e., comma will suppress a newline)*\n",
        "```\n",
        "i = 3\n",
        "j = 4\n",
        "print(i)\n",
        "print(i,j)\n",
        "```\n",
        "***The print() statement is extremely important for debugging a code. Usually when you write a code, it may contain some mistake. Debugging is finding that error based on the error statement from your compiler.***\n",
        "\n"
      ],
      "metadata": {
        "id": "OX8fJJ3eZz5X"
      }
    },
    {
      "cell_type": "markdown",
      "source": [
        "# ***Practice Problem***\n",
        "\n",
        "*Make a calculator using python, that can obtain two numbers from the user and add them together.*"
      ],
      "metadata": {
        "id": "H7D0kW58XiFY"
      }
    },
    {
      "cell_type": "code",
      "source": [
        "# blocks for writing the calculator code.\n",
        "\n",
        "number_1 = int(input('Number 1 = '))\n",
        "number_2 = int(input('Number 2 = '))\n",
        "\n",
        "print(number_1 + number_2)"
      ],
      "metadata": {
        "id": "D4hqJisrX15_",
        "outputId": "b41a46ed-8c22-47e6-d31f-9a6f9c1e1673",
        "colab": {
          "base_uri": "https://localhost:8080/"
        }
      },
      "execution_count": 8,
      "outputs": [
        {
          "output_type": "stream",
          "name": "stdout",
          "text": [
            "Number 1 = 5\n",
            "Number 2 = 5\n",
            "10\n"
          ]
        }
      ]
    },
    {
      "cell_type": "markdown",
      "source": [
        "# ***Practice Problem***\n",
        "\n",
        "*Accept three numbers and print out their average*"
      ],
      "metadata": {
        "id": "stQTvxTkvCm0"
      }
    },
    {
      "cell_type": "code",
      "source": [
        "# blocks for average calculation\n",
        "\n",
        "number_1 = int(input('Number 1 = '))\n",
        "number_2 = int(input('Number 2 = '))\n",
        "number_3 = int(input('Number 3 = '))\n",
        "\n",
        "print((number_1 + number_2 + number_3) / 3)"
      ],
      "metadata": {
        "id": "lDyTeOohvPZB",
        "outputId": "4b1401b7-ccf5-44d6-ad40-084a169e13f2",
        "colab": {
          "base_uri": "https://localhost:8080/"
        }
      },
      "execution_count": 21,
      "outputs": [
        {
          "output_type": "stream",
          "name": "stdout",
          "text": [
            "Number 1 = 5\n",
            "Number 2 = 3\n",
            "Number 3 = 7\n",
            "5.0\n"
          ]
        }
      ]
    },
    {
      "cell_type": "markdown",
      "source": [
        "# ***Whitespace matters!***\n",
        "\n",
        "*Python does not use any braces (like {} in C) to separate one code blocks from other. All lines with the same indentation are part of the same block/scope. Therefore, it is absolutely important to avoid any unintentional whitespaces while writing code in python.*\n",
        "\n",
        "The advantage of such approach is that, you need to type less and the code is automatically **made beautifully arranged** by the structure itself."
      ],
      "metadata": {
        "id": "EkryRTCgWVd2"
      }
    },
    {
      "cell_type": "markdown",
      "source": [
        "# ***Conditional Statements***\n",
        "\n",
        "***`if , elif, else`***\n",
        "\n",
        "Nothing remarkable here, just need to learn the syntax. Here, we should also mention spacing. Python is picky about indentation - you must start a newline after each conditional statement and indent the same number of spaces for every statement within the scope of that condition.\n",
        "\n",
        "```\n",
        "a = 20\n",
        "if a >= 22:\n",
        "   print(\"the code is going to if\")\n",
        "elif a >= 21:\n",
        "    print(\"the code is going to elif\")\n",
        "else:\n",
        "    print(\"the code is going else\")\n",
        "```\n",
        "\n",
        "\n",
        "\n",
        "\n"
      ],
      "metadata": {
        "id": "rJpaSF76auw0"
      }
    },
    {
      "cell_type": "code",
      "source": [
        "# if/else/elif code block\n",
        "\n",
        "a = 200\n",
        "b = 33\n",
        "if b > a:\n",
        "  print(\"b is greater than a\")\n",
        "else:\n",
        "  print(\"b is not greater than a\")"
      ],
      "metadata": {
        "id": "tLhXBPVNV9mX"
      },
      "execution_count": null,
      "outputs": []
    },
    {
      "cell_type": "markdown",
      "source": [
        "# ***Practice Problem***\n",
        "\n",
        "*Write a program that ask for a number from the user. But for multiples of\n",
        "three print “Fizz” instead of the number and for the multiples of five print “Buzz”. For numbers which are multiples of both three and five print “FizzBuzz*\n",
        "\n"
      ],
      "metadata": {
        "id": "p9OwUKUWfZ-1"
      }
    },
    {
      "cell_type": "code",
      "source": [
        "num = int (input ('Enter The Number Whose Divisibility Needs To Be Checked:'))\n",
        "div = 3\n",
        "div_2 = 5\n",
        "if num % div == 0 and num % div_2 == 0:\n",
        "  print ('FizzBuzz')\n",
        "elif num % div_2 == 0:\n",
        "  print('Buzz')\n",
        "elif num % div == 0:\n",
        "  print('Fizz')\n",
        "else:\n",
        "  print ('This Number Is Not Divisible By 3 Or 5.')"
      ],
      "metadata": {
        "id": "OySn-L2Rfm-0",
        "outputId": "cfa2f654-7c28-4287-86d0-53de920b5c2d",
        "colab": {
          "base_uri": "https://localhost:8080/"
        }
      },
      "execution_count": 37,
      "outputs": [
        {
          "output_type": "stream",
          "name": "stdout",
          "text": [
            "Enter The Number Whose Divisibility Needs To Be Checked:4\n",
            "This Number Is Not Divisible By 3 Or 5.\n"
          ]
        }
      ]
    },
    {
      "cell_type": "code",
      "source": [
        "# FizzBuzz Codeblock"
      ],
      "metadata": {
        "id": "ArXvv6QhhR0y"
      },
      "execution_count": null,
      "outputs": []
    },
    {
      "cell_type": "markdown",
      "source": [
        "# ***Practice Problem***\n",
        "\n",
        "*Write a program to accept percentage from the user and display the grade according to the following criteria:*\n",
        "\n",
        "\n",
        "\n",
        "```\n",
        "Marks               Grades\n",
        " >90                   A\n",
        " >80 and <=90          B\n",
        ">=60 and <=80          C\n",
        "  below 60             D\n",
        "```\n",
        "\n",
        "\n",
        "\n",
        "\n",
        "\n",
        "\n",
        "\n"
      ],
      "metadata": {
        "id": "8_yeEL-oilMN"
      }
    },
    {
      "cell_type": "code",
      "source": [
        "# Grade calculation codeblock\n",
        "\n",
        "mark = int(input('What Mark Did You Get? '))\n",
        "\n",
        "if mark > 90:\n",
        "  print('Your Grade Is An A.')\n",
        "elif mark > 80 and mark <=90:\n",
        "  print('Your Grade Is An B.')\n",
        "elif mark >= 60 and mark <= 80:\n",
        "  print('Your Grade Is An C.')\n",
        "else:\n",
        "  print('Your Grade Is An D.')"
      ],
      "metadata": {
        "id": "OFBgHpNTUTSq",
        "outputId": "fe5a3a9b-9871-4137-dc21-d5e230ee25df",
        "colab": {
          "base_uri": "https://localhost:8080/"
        }
      },
      "execution_count": 44,
      "outputs": [
        {
          "output_type": "stream",
          "name": "stdout",
          "text": [
            "What Mark Did You Get? 95\n",
            "Your Grade Is An A.\n"
          ]
        }
      ]
    },
    {
      "cell_type": "markdown",
      "source": [
        "# ***Practice Problems***\n",
        "\n",
        "*Write a program to check whether an year is leap year or not*\n",
        "\n",
        "\n",
        "\n"
      ],
      "metadata": {
        "id": "LSH-WuK1ih7Z"
      }
    },
    {
      "cell_type": "code",
      "source": [
        "# Leap year code block\n",
        "\n",
        "year = int(input('What Year Were You Born? '))\n",
        "leap_occur = 4\n",
        "\n",
        "if year%leap_occur == 0:\n",
        "  print('Congrats! You were most likely born on a leap year!')\n",
        "else:\n",
        "  print('Sorry! You were most likely not born on a leap year!')"
      ],
      "metadata": {
        "id": "AtwE99HbUplZ",
        "outputId": "7340f9b7-d1c7-496a-fa02-6511694257f0",
        "colab": {
          "base_uri": "https://localhost:8080/"
        }
      },
      "execution_count": 47,
      "outputs": [
        {
          "output_type": "stream",
          "name": "stdout",
          "text": [
            "What Year Were You Born? 5720\n",
            "Congrats! You were most likely born on a leap year!\n"
          ]
        }
      ]
    },
    {
      "cell_type": "markdown",
      "source": [
        "# ***Practice Problem***\n",
        "\n",
        "*Write a program to accept a number from 1 to 7 and display the name of the like 1 for Sunday, 2 for Monday and so on.*\n",
        "\n",
        "\n"
      ],
      "metadata": {
        "id": "X2hRqJPVUvV4"
      }
    },
    {
      "cell_type": "code",
      "source": [
        "# day of the week code block\n",
        "\n",
        "number = int(input('Pick A Number From 1 Too 7! '))\n",
        "\n",
        "if number == 1:\n",
        "  print('The Day That Relates To The Number You Gave Is Sunday!')\n",
        "elif number == 2:\n",
        "  print('The Day That Relates To The Number You Gave Is Monday!')\n",
        "elif number == 3:\n",
        "  print('The Day That Relates To The Number You Gave Is Tuesday!')\n",
        "elif number == 4:\n",
        "  print('The Day That Relates To The Number You Gave Is Wednsday!')\n",
        "elif number == 5:\n",
        "  print('The Day That Relates To The Number You Gave Is Thursday!')\n",
        "elif number == 6:\n",
        "  print('The Day That Relates To The Number You Gave Is Friday!')\n",
        "elif number == 7:\n",
        "  print('The Day That Relates To The Number You Gave Is Saturday!')\n",
        "else:\n",
        "  print('Nope! Thats Not What I Asked You Too Do!! Try Again!')"
      ],
      "metadata": {
        "id": "MaVe4Zy0V641",
        "outputId": "5e2eeaf0-2449-461c-8e56-295f65541486",
        "colab": {
          "base_uri": "https://localhost:8080/"
        }
      },
      "execution_count": 51,
      "outputs": [
        {
          "output_type": "stream",
          "name": "stdout",
          "text": [
            "Pick A Number From 1 Too 7! 2\n",
            "The Day That Relates To The Number You Gave Is Monday!\n"
          ]
        }
      ]
    },
    {
      "cell_type": "markdown",
      "source": [
        "# ***Practice Problem***\n",
        "\n",
        "*Write a program to find the lowest number out of two number excepted from user*\n",
        "\n",
        "\n",
        "\n"
      ],
      "metadata": {
        "id": "q0g384W5WMpx"
      }
    },
    {
      "cell_type": "code",
      "source": [
        "# Lowest number code block\n",
        "\n",
        "num_1 = int(input('Number 1 = '))\n",
        "num_2 = int(input('Number 2 = '))\n",
        "\n",
        "if num_1 > num_2:\n",
        "  print(num_2, 'is the smallest number')\n",
        "elif num_2 > num_1:\n",
        "  print(num_1, 'is the smallest number')\n",
        "elif num_1 == num_2:\n",
        "  print('These numbers are the same!')\n",
        "else:\n",
        "  print('I dont even know how you managed this. But no.')"
      ],
      "metadata": {
        "id": "LCIcY5c8Wpcg",
        "outputId": "366a3e92-cafc-4ce8-b7be-8e5d43dca755",
        "colab": {
          "base_uri": "https://localhost:8080/"
        }
      },
      "execution_count": 60,
      "outputs": [
        {
          "output_type": "stream",
          "name": "stdout",
          "text": [
            "Number 1 = 876543\n",
            "Number 2 = 4567890\n",
            "876543 is the smallest number\n"
          ]
        }
      ]
    },
    {
      "cell_type": "markdown",
      "source": [
        "# ***Practice Problem***\n",
        "\n",
        "*Write a program to check if a number is divisible by 2 and 3 at the same time*\n",
        "\n",
        "\n"
      ],
      "metadata": {
        "id": "VxVTbEMUWsnR"
      }
    },
    {
      "cell_type": "code",
      "source": [
        "# code block for divisibility\n",
        "\n",
        "num = int(input('Number = '))\n",
        "div = 2\n",
        "div_2 = 3\n",
        "\n",
        "if num%div == 0 and num%div_2 == 0:\n",
        "  print('This number is divisible by both 2 and 3!')\n",
        "else:\n",
        "  print('This is number is not divisible by 2 or 3!')"
      ],
      "metadata": {
        "id": "AEocAJ6TWsAf",
        "outputId": "657c1b3a-1ee5-48ca-df2e-9970dba2382e",
        "colab": {
          "base_uri": "https://localhost:8080/"
        }
      },
      "execution_count": 63,
      "outputs": [
        {
          "output_type": "stream",
          "name": "stdout",
          "text": [
            "Number = 947\n",
            "This is number is not divisible by 2 or 3!\n"
          ]
        }
      ]
    },
    {
      "cell_type": "markdown",
      "source": [
        "# ***Practice Problem***\n",
        "\n",
        "*Calculate the electric bill of a household. The program should ask for the power consumption in KWh (unit of power consumption). The charge of electricity increases incrementally as the usage increases and the rates are as follows:*\n",
        "\n",
        "\n",
        "\n",
        "```\n",
        "Cost[$/kWh]              Usage [kWh]\n",
        "    1                        <50\n",
        "   1.5                  <=50 and <80\n",
        "    2                   <=80 and <200\n",
        "   2.5                    above 200\n",
        "```\n",
        "\n",
        "\n"
      ],
      "metadata": {
        "id": "w5eY95QtXdvx"
      }
    },
    {
      "cell_type": "code",
      "source": [
        "usage = int(input('Hello! Please tell me what your KWh usage is! '))\n",
        "\n",
        "if usage < 50:\n",
        "  print('You are going to be charged 1 $/KWh')\n",
        "elif usage <= 50 and usage < 80:\n",
        "  print('You are going to be charged 1.5 $/KWh')\n",
        "elif usage <= 80 and usage < 200:\n",
        "  print('You are going to be charged 2 $/KWh')\n",
        "elif usage >= 200:\n",
        "  print('You are going to be charged 2.5 $/KWh')\n",
        "else:\n",
        "  print('I have no idea. I do not understand what you are saying.')"
      ],
      "metadata": {
        "id": "L41eSeZJXdZy",
        "outputId": "d9407f33-db14-4533-9730-a96b4481561f",
        "colab": {
          "base_uri": "https://localhost:8080/"
        }
      },
      "execution_count": 75,
      "outputs": [
        {
          "output_type": "stream",
          "name": "stdout",
          "text": [
            "Hello! Please tell me what your KWh usage is! 7654\n",
            "You are going to be charged 2.5 $/KWh\n"
          ]
        }
      ]
    },
    {
      "cell_type": "code",
      "source": [],
      "metadata": {
        "id": "UFaxRKN1YuJT"
      },
      "execution_count": null,
      "outputs": []
    },
    {
      "cell_type": "markdown",
      "source": [
        "# ***Lists***\n",
        "\n",
        "Lists are exactly as the name implies. They are lists of objects. The objects can be any data type (including lists), and it is allowed to mix data types. In this way they are much more flexible than arrays. It is possible to append, delete, insert and count elements and to sort, reverse, etc. the list.\n",
        "\n",
        "\n",
        "\n",
        "```\n",
        "a_list = [1,2,3,\"this is a string\",5.3]\n",
        "b_list = [\"A\",\"B\",\"F\",\"G\",\"d\",\"x\",\"c\",a_list,3]\n",
        "print(b_list)\n",
        "print(b_list[7:9])\n",
        "```\n",
        "\n",
        "\n",
        "```\n",
        "a = [1,2,3,4,5,6,7]\n",
        "a.insert(0,0)\n",
        "print(a)\n",
        "a.append(8)\n",
        "print(a)\n",
        "a.reverse()\n",
        "print(a)\n",
        "a.sort()\n",
        "print(a)\n",
        "a.pop()\n",
        "print(a)\n",
        "a.remove(3)\n",
        "print(a)\n",
        "a.remove(a[4])\n",
        "print(a)\n",
        "```\n",
        "\n",
        "***Elements are indexed from 0. Any string is essentially a list***\n",
        "\n",
        "\n"
      ],
      "metadata": {
        "id": "CFaxCt6hg5TL"
      }
    },
    {
      "cell_type": "code",
      "source": [
        "# Demo code block for lists\n",
        "\n",
        "list = [1,3,3,40,582,2,5,7,2,8,3,3]\n",
        "print(list)\n",
        "\n",
        "list.append(56)\n",
        "print(list)\n",
        "\n",
        "list.remove(3)\n",
        "print(list)\n",
        "\n",
        "list.sort()\n",
        "print(list)\n",
        "\n",
        "list.reverse()\n",
        "print(list)"
      ],
      "metadata": {
        "id": "ronTFR0ThZ2j",
        "outputId": "277edc90-ec14-4f4b-f06c-6e995c04c6a4",
        "colab": {
          "base_uri": "https://localhost:8080/"
        }
      },
      "execution_count": 92,
      "outputs": [
        {
          "output_type": "stream",
          "name": "stdout",
          "text": [
            "[1, 3, 3, 40, 582, 2, 5, 7, 2, 8, 3, 3]\n",
            "[1, 3, 3, 40, 582, 2, 5, 7, 2, 8, 3, 3, 56]\n",
            "[1, 3, 40, 582, 2, 5, 7, 2, 8, 3, 3, 56]\n",
            "[1, 2, 2, 3, 3, 3, 5, 7, 8, 40, 56, 582]\n",
            "[582, 56, 40, 8, 7, 5, 3, 3, 3, 2, 2, 1]\n"
          ]
        }
      ]
    },
    {
      "cell_type": "markdown",
      "source": [
        "# ***Loops or Iterators***\n",
        "*Python has the usual iterators, while, for, and some other constructions that will be addressed later:*\n",
        "\n",
        "\n",
        "\n",
        "```\n",
        "for i in range(1,10):\n",
        "     print(i)\n",
        "```\n",
        "\n",
        "*`range()` : the range function gives us values up to, but not including, the upper limit.*\n",
        "\n",
        "```\n",
        "i = 1\n",
        "while i < 10:\n",
        "    print(i)\n",
        "    i+=1\n",
        "```\n",
        "\n",
        "`for()` and `while()` essentially do the same things. But depending on the situation one may be more convenient than other\n"
      ],
      "metadata": {
        "id": "c2nZ-2GdeiWQ"
      }
    },
    {
      "cell_type": "code",
      "source": [
        "# Code blocks for loops\n",
        "\n",
        "i = 0\n",
        "\n",
        "for i in range(1,10):\n",
        "  print(i)\n",
        "\n",
        "print('\\n')\n",
        "\n",
        "t = 0\n",
        "\n",
        "while t < 10:\n",
        "  print(t)\n",
        "  t+=1"
      ],
      "metadata": {
        "id": "lWfB15c2fwuZ",
        "outputId": "a3b1c722-1d1c-44b3-da77-5abaa49d1a40",
        "colab": {
          "base_uri": "https://localhost:8080/"
        }
      },
      "execution_count": 85,
      "outputs": [
        {
          "output_type": "stream",
          "name": "stdout",
          "text": [
            "1\n",
            "2\n",
            "3\n",
            "4\n",
            "5\n",
            "6\n",
            "7\n",
            "8\n",
            "9\n",
            "\n",
            "\n",
            "0\n",
            "1\n",
            "2\n",
            "3\n",
            "4\n",
            "5\n",
            "6\n",
            "7\n",
            "8\n",
            "9\n"
          ]
        }
      ]
    },
    {
      "cell_type": "markdown",
      "source": [
        "*Lists can be constructed using ‘for’ and some conditional statements. These are called, ‘list comprehensions’. For example:*\n",
        "\n",
        "\n",
        "\n",
        "```\n",
        "even_numbers = [x for x in range(100) if x % 2 == 0]\n",
        "print(even_numbers)\n",
        "```\n",
        "*List comprehensions can work on strings as well:*\n",
        "\n",
        "\n",
        "\n",
        "\n",
        "```\n",
        "first_sentence = \"It was a dark and stormy night.\"\n",
        "characters = [x for x in first_sentence]\n",
        "print(characters)\n",
        "```\n",
        "\n",
        "`len()` can be used to find the number of element in a list.\n",
        "\n",
        "\n",
        "\n",
        "```\n",
        "first_sentence = \"It was a dark and stormy night.\"\n",
        "number_of_character = len(first_sentence)\n",
        "print(number_of_character)\n",
        "```\n",
        "\n",
        "\n"
      ],
      "metadata": {
        "id": "aO8yVSiEiAXU"
      }
    },
    {
      "cell_type": "code",
      "source": [
        "# list demo\n",
        "first_sentence = \"It was a dark and stormy night.\"\n",
        "number_of_character = len(first_sentence)\n",
        "print(number_of_character)"
      ],
      "metadata": {
        "id": "M0GmUb7Vk1tp",
        "outputId": "79703c64-795d-495d-e6f3-723f11304d22",
        "colab": {
          "base_uri": "https://localhost:8080/"
        }
      },
      "execution_count": 86,
      "outputs": [
        {
          "output_type": "stream",
          "name": "stdout",
          "text": [
            "31\n"
          ]
        }
      ]
    },
    {
      "cell_type": "markdown",
      "source": [
        "# ***Practice Problem***\n",
        "\n",
        "*Write a program that prints the numbers from 1 to 100. But for multiples of\n",
        "three print “Fizz” instead of the number and for the multiples of five print “Buzz”. For numbers which are multiples of both three and five print “FizzBuzz\"*\n",
        "\n",
        "\n",
        "\n",
        "```\n",
        "for i in range(1, 101):\n",
        "    if i % 15 == 0:\n",
        "        print(\"FizzBuzz\")\n",
        "    elif i % 3 == 0:\n",
        "        print(\"Fizz\")\n",
        "    elif i % 5 == 0:\n",
        "        print(\"Buzz\")\n",
        "    else:\n",
        "        print(i)\n",
        "```\n",
        "\n",
        "\n"
      ],
      "metadata": {
        "id": "rvJwXWjOhSg2"
      }
    },
    {
      "cell_type": "code",
      "source": [
        "# Fizz Buzz problem\n",
        "\n",
        "for i in range(1, 101):\n",
        "    if i % 3 == 0 and i % 5 == 0:\n",
        "        print(\"FizzBuzz\")\n",
        "    elif i % 3 == 0:\n",
        "        print(\"Fizz\")\n",
        "    elif i % 5 == 0:\n",
        "        print(\"Buzz\")\n",
        "    else:\n",
        "        print(i)"
      ],
      "metadata": {
        "id": "S5k9fZu3jLS1",
        "outputId": "18eade26-f649-4107-d763-5641a5edb76e",
        "colab": {
          "base_uri": "https://localhost:8080/"
        }
      },
      "execution_count": 88,
      "outputs": [
        {
          "output_type": "stream",
          "name": "stdout",
          "text": [
            "1\n",
            "2\n",
            "Fizz\n",
            "4\n",
            "Buzz\n",
            "Fizz\n",
            "7\n",
            "8\n",
            "Fizz\n",
            "Buzz\n",
            "11\n",
            "Fizz\n",
            "13\n",
            "14\n",
            "FizzBuzz\n",
            "16\n",
            "17\n",
            "Fizz\n",
            "19\n",
            "Buzz\n",
            "Fizz\n",
            "22\n",
            "23\n",
            "Fizz\n",
            "Buzz\n",
            "26\n",
            "Fizz\n",
            "28\n",
            "29\n",
            "FizzBuzz\n",
            "31\n",
            "32\n",
            "Fizz\n",
            "34\n",
            "Buzz\n",
            "Fizz\n",
            "37\n",
            "38\n",
            "Fizz\n",
            "Buzz\n",
            "41\n",
            "Fizz\n",
            "43\n",
            "44\n",
            "FizzBuzz\n",
            "46\n",
            "47\n",
            "Fizz\n",
            "49\n",
            "Buzz\n",
            "Fizz\n",
            "52\n",
            "53\n",
            "Fizz\n",
            "Buzz\n",
            "56\n",
            "Fizz\n",
            "58\n",
            "59\n",
            "FizzBuzz\n",
            "61\n",
            "62\n",
            "Fizz\n",
            "64\n",
            "Buzz\n",
            "Fizz\n",
            "67\n",
            "68\n",
            "Fizz\n",
            "Buzz\n",
            "71\n",
            "Fizz\n",
            "73\n",
            "74\n",
            "FizzBuzz\n",
            "76\n",
            "77\n",
            "Fizz\n",
            "79\n",
            "Buzz\n",
            "Fizz\n",
            "82\n",
            "83\n",
            "Fizz\n",
            "Buzz\n",
            "86\n",
            "Fizz\n",
            "88\n",
            "89\n",
            "FizzBuzz\n",
            "91\n",
            "92\n",
            "Fizz\n",
            "94\n",
            "Buzz\n",
            "Fizz\n",
            "97\n",
            "98\n",
            "Fizz\n",
            "Buzz\n"
          ]
        }
      ]
    },
    {
      "cell_type": "markdown",
      "source": [
        "# ***Practice Problem***\n",
        "\n",
        "*write a program to print first 10 natural number*"
      ],
      "metadata": {
        "id": "PYjm7rcwjL30"
      }
    },
    {
      "cell_type": "code",
      "source": [
        "# blocks for practice\n",
        "\n",
        "for i in range(1, 11):\n",
        "  print(i)"
      ],
      "metadata": {
        "id": "nKTVc74ojhUb",
        "outputId": "7422ed8d-3bfb-4395-9bb4-50df53ca88e0",
        "colab": {
          "base_uri": "https://localhost:8080/"
        }
      },
      "execution_count": 90,
      "outputs": [
        {
          "output_type": "stream",
          "name": "stdout",
          "text": [
            "1\n",
            "2\n",
            "3\n",
            "4\n",
            "5\n",
            "6\n",
            "7\n",
            "8\n",
            "9\n",
            "10\n"
          ]
        }
      ]
    },
    {
      "cell_type": "markdown",
      "source": [
        "# ***Practice Problem***\n",
        "\n",
        "*write a program to print first 10 even number*"
      ],
      "metadata": {
        "id": "kR54KAunjj3i"
      }
    },
    {
      "cell_type": "code",
      "source": [
        "# blocks for practice\n",
        "\n",
        "for i in range(1, 11):\n",
        "  if i % 2 == 0:\n",
        "    print(i)"
      ],
      "metadata": {
        "id": "cChoclbrjl-R",
        "outputId": "216183c7-cb79-453e-c322-71add077b35b",
        "colab": {
          "base_uri": "https://localhost:8080/"
        }
      },
      "execution_count": 91,
      "outputs": [
        {
          "output_type": "stream",
          "name": "stdout",
          "text": [
            "2\n",
            "4\n",
            "6\n",
            "8\n",
            "10\n"
          ]
        }
      ]
    },
    {
      "cell_type": "markdown",
      "source": [
        "# ***Practice Problem***\n",
        "\n",
        "*write a program to print first 10 even number in reverse order*"
      ],
      "metadata": {
        "id": "UCkLk71wjoqB"
      }
    },
    {
      "cell_type": "code",
      "source": [
        "# blocks for practice\n",
        "\n",
        "list = []\n",
        "\n",
        "for i in range(1,11):\n",
        "  if i % 2 == 0:\n",
        "    list.append(i)\n",
        "\n",
        "list.reverse()\n",
        "print(list)"
      ],
      "metadata": {
        "id": "Hxm2I7IyjvSO",
        "outputId": "e3eb690a-c363-4216-8a5b-83e9e5dd41f4",
        "colab": {
          "base_uri": "https://localhost:8080/"
        }
      },
      "execution_count": 94,
      "outputs": [
        {
          "output_type": "stream",
          "name": "stdout",
          "text": [
            "[10, 8, 6, 4, 2]\n"
          ]
        }
      ]
    },
    {
      "cell_type": "markdown",
      "source": [
        "# ***Practice Problem***\n",
        "\n",
        "*write a program to print table of a number accepted from user*"
      ],
      "metadata": {
        "id": "n5ytkau8jxYX"
      }
    },
    {
      "cell_type": "code",
      "source": [
        "# code blocks for table\n",
        "\n",
        "list = []\n",
        "\n",
        "for i in range(1,11):\n",
        "  num = int(input('Number please! '))\n",
        "  list.append(num)\n",
        "\n",
        "list.sort()\n",
        "print(list)"
      ],
      "metadata": {
        "id": "KY2lP42ej8PI",
        "outputId": "9aae7656-bd2c-4ece-8595-747bbcc5e3da",
        "colab": {
          "base_uri": "https://localhost:8080/"
        }
      },
      "execution_count": 97,
      "outputs": [
        {
          "output_type": "stream",
          "name": "stdout",
          "text": [
            "Number please! 5\n",
            "Number please! 8\n",
            "Number please! 8\n",
            "Number please! 256\n",
            "Number please! 3456\n",
            "Number please! 1\n",
            "Number please! 2478\n",
            "Number please! 3\n",
            "Number please! 6\n",
            "Number please! 8\n",
            "[1, 3, 5, 6, 8, 8, 8, 256, 2478, 3456]\n"
          ]
        }
      ]
    },
    {
      "cell_type": "markdown",
      "source": [
        "# ***Practice Problem***\n",
        "\n",
        "*write a program to find the factorial of a number (the number should be less than 20)*"
      ],
      "metadata": {
        "id": "Or4g7sLDj-70"
      }
    },
    {
      "cell_type": "code",
      "source": [
        "# factorial code block\n",
        "\n",
        "num = int(input('A number that is less then 20! '))\n",
        "\n",
        "factorial = 1\n",
        "\n",
        "if num < 0:\n",
        "   print(\"Sorry, factorial does not exist for negative numbers\")\n",
        "elif num == 0:\n",
        "   print(\"The factorial of 0 is 1\")\n",
        "else:\n",
        "   for i in range(1,num + 1):\n",
        "       factorial = factorial*i\n",
        "   print(\"The factorial of\",num,\"is\",factorial)"
      ],
      "metadata": {
        "id": "1-FzLREXkJnx",
        "outputId": "49b29af0-2e62-4cdd-f3db-1ce68b71563e",
        "colab": {
          "base_uri": "https://localhost:8080/"
        }
      },
      "execution_count": 98,
      "outputs": [
        {
          "output_type": "stream",
          "name": "stdout",
          "text": [
            "A number that is less then 20! 7\n",
            "The factorial of 7 is 5040\n"
          ]
        }
      ]
    },
    {
      "cell_type": "markdown",
      "source": [
        "# ***Practice Problem***\n",
        "\n",
        "*Write a program to calculate the sum of first 10 natural numbers*"
      ],
      "metadata": {
        "id": "lm_02HXxqOXe"
      }
    },
    {
      "cell_type": "code",
      "source": [
        "# sum of numbers\n",
        "\n",
        "list = []\n",
        "\n",
        "for i in range(1, 11):\n",
        "  list.append(i)\n",
        "\n",
        "\n",
        "\n",
        "print(sum(list))"
      ],
      "metadata": {
        "id": "sNaCrCakqUDC",
        "outputId": "fb1f5607-fc07-49fe-a113-97c0f4045eab",
        "colab": {
          "base_uri": "https://localhost:8080/"
        }
      },
      "execution_count": 100,
      "outputs": [
        {
          "output_type": "stream",
          "name": "stdout",
          "text": [
            "55\n"
          ]
        }
      ]
    },
    {
      "cell_type": "markdown",
      "source": [
        "# ***Practice Problem***\n",
        "\n",
        "*write a program to find the sum of all digits in a number*"
      ],
      "metadata": {
        "id": "-UrClPNOkPw8"
      }
    },
    {
      "cell_type": "code",
      "source": [
        "# code block for sum of digits\n",
        "\n",
        "num = int(input('Number = '))\n",
        "\n",
        "class Solution:\n",
        "   def solve(self, num):\n",
        "      sum=0\n",
        "      while(num!=0):\n",
        "         sum = sum+int(num%10)\n",
        "         num=int(num/10)\n",
        "      return sum\n",
        "ob = Solution()\n",
        "print(ob.solve(num))"
      ],
      "metadata": {
        "id": "TYAs_AG5kPAO",
        "outputId": "3d9c42b0-93c7-44a7-8777-e65eecc046f5",
        "colab": {
          "base_uri": "https://localhost:8080/"
        }
      },
      "execution_count": 102,
      "outputs": [
        {
          "output_type": "stream",
          "name": "stdout",
          "text": [
            "Number = 456846709\n",
            "49\n"
          ]
        }
      ]
    },
    {
      "cell_type": "markdown",
      "source": [
        "# ***Practice Problem***\n",
        "\n",
        "*write a program to find if a number is a prime number or not*"
      ],
      "metadata": {
        "id": "K96bx9Aek_Ck"
      }
    },
    {
      "cell_type": "code",
      "source": [
        "# code block for prime numbers\n",
        "\n",
        "num = int(input(\"Enter A Number: \"))\n",
        "\n",
        "if num == 1:\n",
        "    print(num, \"is not a prime number.\")\n",
        "elif num > 1:\n",
        "   for i in range(2,num):\n",
        "       if (num % i) == 0:\n",
        "           print(num,\"is not a prime number.\")\n",
        "           break\n",
        "   else:\n",
        "       print(num,\"is a prime number.\")"
      ],
      "metadata": {
        "id": "L0WfxGvtl9ye",
        "outputId": "33696b42-ef0a-462d-ad42-b96bf6f84239",
        "colab": {
          "base_uri": "https://localhost:8080/"
        }
      },
      "execution_count": 111,
      "outputs": [
        {
          "output_type": "stream",
          "name": "stdout",
          "text": [
            "Enter A Number: 76\n",
            "76 is not a prime number.\n"
          ]
        }
      ]
    },
    {
      "cell_type": "markdown",
      "source": [
        "# ***Practice Problem***\n",
        "\n",
        "*Accept 10 numbers from the user and display their average*"
      ],
      "metadata": {
        "id": "Sxj96NGrmAp8"
      }
    },
    {
      "cell_type": "code",
      "source": [
        "# code block for average\n",
        "\n",
        "list = []\n",
        "\n",
        "for i in range(1,11):\n",
        "  num = int(input('Enter A Number: '))\n",
        "  list.append(num)\n",
        "\n",
        "average = sum(list)/len(list)\n",
        "print(\"Average of list: \", round(average,3))\n"
      ],
      "metadata": {
        "id": "hcpggXalmHh7",
        "outputId": "0cca00c5-45cc-4f20-de61-557541987556",
        "colab": {
          "base_uri": "https://localhost:8080/"
        }
      },
      "execution_count": 1,
      "outputs": [
        {
          "output_type": "stream",
          "name": "stdout",
          "text": [
            "Enter A Number: 56\n",
            "Enter A Number: 3\n",
            "Enter A Number: 5\n",
            "Enter A Number: 16\n",
            "Enter A Number: 765\n",
            "Enter A Number: 345\n",
            "Enter A Number: 43\n",
            "Enter A Number: 36\n",
            "Enter A Number: 742\n",
            "Enter A Number: 457\n",
            "Average of list:  246.8\n"
          ]
        }
      ]
    },
    {
      "cell_type": "markdown",
      "source": [
        "# ***Practice Problem***\n",
        "\n",
        "*write a program to display all the numbers which are divisible by 11 but not by 2 between 100 and 500*"
      ],
      "metadata": {
        "id": "8GJv7kcWmKXo"
      }
    },
    {
      "cell_type": "code",
      "source": [
        "# divisible code block\n",
        "\n",
        "div = 11\n",
        "div_2 = 2\n",
        "\n",
        "if num in range(100,501):\n",
        "  if num % div == 0 and num % div_2 != 0:\n",
        "    print(num)\n",
        ""
      ],
      "metadata": {
        "id": "eKt7ybsymXPm"
      },
      "execution_count": 10,
      "outputs": []
    },
    {
      "cell_type": "markdown",
      "source": [
        "# ***Functions***\n",
        "\n",
        "*A Python function is a block of code that performs a specific task and can be reused in a program. There are two types of functions in Python: built-in functions that are provided by Python itself, and user-defined functions that are created by the programmer. You can define a function using the def keyword, and call it using the function name followed by parentheses. For example:*\n",
        "\n",
        "\n",
        "\n",
        "```\n",
        "def greet():\n",
        "  print(\"Hello from a function\")\n",
        "\n",
        "greet()\n",
        "```\n",
        "\n",
        "\n",
        "```\n",
        "def Division(a, b):\n",
        "    print(a/b)\n",
        "Division(3,4)\n",
        "Division(3.0,4.0)\n",
        "Division(3,4.0)\n",
        "Division(3.0,4)\n",
        "```\n",
        "\n",
        "*The output of a function can also be redirected to a variable.*\n",
        "\n",
        "\n",
        "\n",
        "```\n",
        "def Division(a, b):\n",
        "    return(a/b)\n",
        "result = Division (4,2)\n",
        "print(result)\n",
        "```\n",
        "\n"
      ],
      "metadata": {
        "id": "BP9Z0hd6mdeT"
      }
    },
    {
      "cell_type": "code",
      "source": [
        "# Function Demo\n",
        "\n",
        "def dance():\n",
        "  print('Do a funky little dance magic man!')\n",
        "\n",
        "dance()"
      ],
      "metadata": {
        "id": "luIoYi5Injm9",
        "outputId": "09e4d711-d37c-4c19-8d67-e5dd4a097bd1",
        "colab": {
          "base_uri": "https://localhost:8080/"
        }
      },
      "execution_count": 11,
      "outputs": [
        {
          "output_type": "stream",
          "name": "stdout",
          "text": [
            "Do a funky little dance magic man!\n"
          ]
        }
      ]
    },
    {
      "cell_type": "markdown",
      "source": [
        "# ***try/except***\n",
        "\n",
        "**Python has another type of conditional expression that is very useful. Suppose your program is processing user input or data from a file. You don’t always know for sure what you are getting in that case, and this can lead to problems. The ‘try/except’ conditional can solve them!**\n",
        "\n",
        "\n",
        "\n",
        "```\n",
        "a = \"1\"\n",
        "try:\n",
        "  b = a + 2\n",
        "except:\n",
        "  print(a, \" is not a number\")\n",
        "```\n",
        "\n",
        "*In a statically typed language, the programmer would have specified the type of a and b (float, int, etc.) and the compiler would have complained about the function being passed a variable of the wrong type. This does not happen here, but we can use the try/except construction.*\n",
        "\n",
        "\n",
        "\n",
        "\n",
        "```\n",
        "def Division(a, b):\n",
        "    try:\n",
        "        print(a/b)\n",
        "    except:\n",
        "        if b == 0:\n",
        "           print(\"cannot divide by zero\")\n",
        "        else:\n",
        "           print(float(a)/float(b))\n",
        "Division(2,\"2\")\n",
        "Division(2,0)\n",
        "```\n",
        "\n"
      ],
      "metadata": {
        "id": "t9MLeg35dX-b"
      }
    },
    {
      "cell_type": "code",
      "source": [
        "# try except code block\n",
        "\n",
        "def dance(a, b):\n",
        "    try:\n",
        "        print(a*b)\n",
        "    except:\n",
        "        if b == 0:\n",
        "           print('nope')\n",
        "        else:\n",
        "          print(float(a)/float(b))\n",
        "\n",
        "dance(8, '24')\n",
        "dance(7, 92)"
      ],
      "metadata": {
        "id": "G-lZMqfpcibg",
        "outputId": "701d8a96-53de-48b1-b2ef-ec819cbfccea",
        "colab": {
          "base_uri": "https://localhost:8080/"
        }
      },
      "execution_count": 13,
      "outputs": [
        {
          "output_type": "stream",
          "name": "stdout",
          "text": [
            "2424242424242424\n",
            "644\n"
          ]
        }
      ]
    },
    {
      "cell_type": "markdown",
      "source": [
        "# ***Practice Problem***\n",
        "\n",
        "*Write a function to calculate the area of a rectange*"
      ],
      "metadata": {
        "id": "pFDTU8_Vv9k3"
      }
    },
    {
      "cell_type": "code",
      "source": [
        "# area of rectangle\n",
        "\n"
      ],
      "metadata": {
        "id": "3VOGeAy7fL2g"
      },
      "execution_count": null,
      "outputs": []
    },
    {
      "cell_type": "markdown",
      "source": [
        "# ***Practice Problem***\n",
        "\n",
        "*Write a function that calculates the radius of a sphere from its volume*"
      ],
      "metadata": {
        "id": "X_jFlizfoQ_x"
      }
    },
    {
      "cell_type": "code",
      "source": [
        "# radius calculation"
      ],
      "metadata": {
        "id": "ZYJVMAWtndcy"
      },
      "execution_count": null,
      "outputs": []
    },
    {
      "cell_type": "markdown",
      "source": [
        "# ***Practice Problem***\n",
        "\n",
        "*Write a function that returns the square of any number given to it*"
      ],
      "metadata": {
        "id": "WFOVQKuWpwTL"
      }
    },
    {
      "cell_type": "code",
      "source": [
        "# square problem"
      ],
      "metadata": {
        "id": "Jr_sdaRqpr6V"
      },
      "execution_count": null,
      "outputs": []
    },
    {
      "cell_type": "markdown",
      "source": [
        "# ***Practice Problem***\n",
        "\n",
        "*Using function calculate the summation of the square of first 10 natural numbers.*"
      ],
      "metadata": {
        "id": "_Oj6MxzOp-Ri"
      }
    },
    {
      "cell_type": "code",
      "source": [
        "# square sum"
      ],
      "metadata": {
        "id": "dP8oHuAPp7Uj"
      },
      "execution_count": null,
      "outputs": []
    },
    {
      "cell_type": "markdown",
      "source": [
        "# ***Practice Problem***\n",
        "\n",
        "*Write a program to print out the first 10 digits of the Fibonacci sequence. Can you calculate the golden ratio from Fibonacci Sequence*"
      ],
      "metadata": {
        "id": "_EOvNyq9qbvY"
      }
    },
    {
      "cell_type": "code",
      "source": [
        "# Fibonacci sequence"
      ],
      "metadata": {
        "id": "9JSpZD1tq0Hd"
      },
      "execution_count": null,
      "outputs": []
    },
    {
      "cell_type": "code",
      "source": [
        "# Try recursion with Fibonacci sequence"
      ],
      "metadata": {
        "id": "ekPstcIlqHYw"
      },
      "execution_count": null,
      "outputs": []
    },
    {
      "cell_type": "code",
      "source": [],
      "metadata": {
        "id": "gn2Tt-iOz6qe"
      },
      "execution_count": null,
      "outputs": []
    }
  ],
  "metadata": {
    "language_info": {
      "name": "python"
    },
    "orig_nbformat": 4,
    "colab": {
      "provenance": [],
      "include_colab_link": true
    },
    "kernelspec": {
      "name": "python3",
      "display_name": "Python 3"
    }
  },
  "nbformat": 4,
  "nbformat_minor": 0
}