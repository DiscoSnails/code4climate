{
  "cells": [
    {
      "cell_type": "markdown",
      "id": "5a409364",
      "metadata": {
        "id": "5a409364"
      },
      "source": [
        "***Hello World!***\n",
        "\n",
        "*My first python code. Printing out a string of characters* using `print()`\n"
      ]
    },
    {
      "cell_type": "code",
      "execution_count": null,
      "id": "c998c9fe",
      "metadata": {
        "id": "c998c9fe",
        "outputId": "35101d97-21e3-480b-bb08-a9877d8a2d0a",
        "colab": {
          "base_uri": "https://localhost:8080/"
        }
      },
      "outputs": [
        {
          "output_type": "stream",
          "name": "stdout",
          "text": [
            "Hello World! This is my first python code\n"
          ]
        }
      ],
      "source": [
        "print('Hello World! This is my first python code')"
      ]
    },
    {
      "cell_type": "markdown",
      "source": [
        "***How to get user input into python!***\n",
        "\n",
        "*Scan user input. Get an input in the form of a string of characters using* `input()`\n",
        "\n",
        "`\"/n\"` *character can be used to get to a new line at the end of a line.*"
      ],
      "metadata": {
        "id": "NvOJHdMayDc9"
      },
      "id": "NvOJHdMayDc9"
    },
    {
      "cell_type": "code",
      "execution_count": null,
      "id": "11141e60",
      "metadata": {
        "id": "11141e60",
        "outputId": "4efb0f06-316b-46b0-f6cc-246e2a0d6beb",
        "colab": {
          "base_uri": "https://localhost:8080/"
        }
      },
      "outputs": [
        {
          "output_type": "stream",
          "name": "stdout",
          "text": [
            "What is your name? \n",
            "Python\n",
            "Hi!  Python\n"
          ]
        }
      ],
      "source": [
        "name=input('What is your name? \\n')\n",
        "print('Hi! ', name)"
      ]
    },
    {
      "cell_type": "markdown",
      "source": [
        "***Practical example: Creating Mad Libs***\n",
        "\n",
        "*Using a series of `input()` and `print()` statements to create a Mad Libs*\n",
        "\n",
        "`#` *can be used to create inline comments*\n",
        "\n",
        "`''' Multi-line comments '''`\n"
      ],
      "metadata": {
        "id": "OeSp6c_u1YLq"
      },
      "id": "OeSp6c_u1YLq"
    },
    {
      "cell_type": "code",
      "source": [
        "'''\n",
        "This is a mad libs code\n",
        "Get some nouns and adjectives from a user\n",
        "'''\n",
        "\n",
        "noun1 = input('Give me a noun: ')\n",
        "\n",
        "plural_noun1 = input('Give me a plural noun: ')\n",
        "\n",
        "noun2 = input('Give me a noun: ')\n",
        "\n",
        "place1 = input('Name a place: ')\n",
        "\n",
        "adjective1 = input('Give me an adjective (Describing word): ')\n",
        "\n",
        "noun3 = input('Give me a noun: ')\n",
        "\n",
        "# Print a story from the inputs read\n",
        "\n",
        "print('------------------------------------------')\n",
        "\n",
        "print('Be kind to your', noun1, '- footed', plural_noun1)\n",
        "\n",
        "print('For a duck may be somebody\\'s', noun2, ',')\n",
        "\n",
        "print('Be kind to your', plural_noun1, 'in', place1)\n",
        "\n",
        "print('Where the weather is always', adjective1, '. \\n')\n",
        "\n",
        "print('You may think that is this the', noun3, ',')\n",
        "\n",
        "print('Well it is.')\n",
        "\n",
        "print('------------------------------------------')"
      ],
      "metadata": {
        "id": "PB_jHXSZ0OAD",
        "outputId": "7266474d-0f35-4ab5-d90e-464917551e98",
        "colab": {
          "base_uri": "https://localhost:8080/"
        }
      },
      "id": "PB_jHXSZ0OAD",
      "execution_count": null,
      "outputs": [
        {
          "output_type": "stream",
          "name": "stdout",
          "text": [
            "Give me a noun: Rice\n",
            "Give me a plural noun: rivers\n",
            "Give me a noun: wheat\n",
            "Name a place: Milwaukee\n",
            "Give me an adjective (Describing word): windy\n",
            "Give me a noun: mountain\n",
            "------------------------------------------\n",
            "Be kind to your Rice - footed rivers\n",
            "For a duck may be somebody's wheat ,\n",
            "Be kind to your rivers in Milwaukee\n",
            "Where the weather is always windy . \n",
            "\n",
            "You may think that is this the mountain ,\n",
            "Well it is.\n",
            "------------------------------------------\n"
          ]
        }
      ]
    }
  ],
  "metadata": {
    "kernelspec": {
      "display_name": "Python 3 (ipykernel)",
      "language": "python",
      "name": "python3"
    },
    "language_info": {
      "codemirror_mode": {
        "name": "ipython",
        "version": 3
      },
      "file_extension": ".py",
      "mimetype": "text/x-python",
      "name": "python",
      "nbconvert_exporter": "python",
      "pygments_lexer": "ipython3",
      "version": "3.9.13"
    },
    "colab": {
      "provenance": []
    }
  },
  "nbformat": 4,
  "nbformat_minor": 5
}