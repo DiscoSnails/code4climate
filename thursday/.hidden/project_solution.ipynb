{
  "nbformat": 4,
  "nbformat_minor": 0,
  "metadata": {
    "colab": {
      "provenance": []
    },
    "kernelspec": {
      "name": "python3",
      "display_name": "Python 3"
    },
    "language_info": {
      "name": "python"
    }
  },
  "cells": [
    {
      "cell_type": "markdown",
      "source": [
        "# **Find the odd squares in a given range**"
      ],
      "metadata": {
        "id": "HIcpItuyx17i"
      }
    },
    {
      "cell_type": "code",
      "execution_count": null,
      "metadata": {
        "id": "xUquHXVJ_Set"
      },
      "outputs": [],
      "source": [
        "# The function takes in 2 inputs (num1 and num2)\n",
        "# and prints out all the odd square numbers between the inputs\n",
        "\n",
        "def odd_squares(num1,num2):                         # definition of the funciton and its inputs\n",
        "  for i in range (num1,num2+1):                     # iterating: 'i' perceives all number within the given range one by one\n",
        "    # int (2.65) = 2\n",
        "    # therefore, int(square root of a number) < square root of that number if the number is not a perfect squaare\n",
        "    # E.G. square_root(12)=3.464\n",
        "    # then int(square_root(12)) = 3\n",
        "    # now if we square, (int(square_root(12)))**2 = 9 which is less than 12\n",
        "    # This will always happen if the number is not a perfect square\n",
        "    # Odd numbers are not divisible by 2\n",
        "    if i==(int(i**0.5))**2 and i%2!=0:\n",
        "      print(i)                                      # anyhing that checks out this if statement is an odd square number, 'i'\n",
        "lower_limit=int(input('Enter the lower limit:'))\n",
        "upper_limit=int(input('Enter the upper limit:'))\n",
        "odd_squares(lower_limit,upper_limit)"
      ]
    },
    {
      "cell_type": "markdown",
      "source": [
        "# ***Find all the armstrong number in a given range***"
      ],
      "metadata": {
        "id": "-hOOLDZW1sNb"
      }
    },
    {
      "cell_type": "code",
      "source": [
        "def armstrong_number(num1,num2):                  # Defining the function with 2 inputs\n",
        "  for i in range(num1,num2+1):                    # Looping through the given range, 'i' is the numbers within the range\n",
        "    string=str(i)                                 # converting 'i' to a string variable\n",
        "    num_digit=len(string)                         # length of the string is equal to the number of digits\n",
        "    sum=0                                         # defining an intermediate variable to calculate sum\n",
        "    for j in string:                              # looping through individual digits, remember the data type of the digits is character\n",
        "      sum = sum + int(j)**num_digit               # calculating the sum of all the <digits raised to the power of number of digits>\n",
        "    if sum == i:                                  # checking if the sum is equal to the actual number.\n",
        "      print(i)                                    # anything that checks out this if statement is an armstrong number\n",
        "lower_limit=int(input('Enter the lower limit:'))\n",
        "upper_limit=int(input('Enter the upper limit:'))\n",
        "armstrong_number(lower_limit,upper_limit)\n"
      ],
      "metadata": {
        "id": "hs4wVH3mMdpN"
      },
      "execution_count": null,
      "outputs": []
    },
    {
      "cell_type": "markdown",
      "source": [
        "# ***Calculate all the prime numbers in a given range***"
      ],
      "metadata": {
        "id": "8PODXwVY3QgK"
      }
    },
    {
      "cell_type": "code",
      "source": [
        "\n",
        "def prime_numbers(num1,num2):                         # Defining the function with 2 inputs\n",
        "  if num1<=2:                                         # we know that 1 is not prime and 2 is prime\n",
        "    print('2')                                        # Therefore, if they falls within the range we print it\n",
        "                                                      # So we start from 3 to the upper_limit of the range of numbers\n",
        "  for numbers in range(3,num2+1):                     # looping through the numbers within specified range ==> 'numbers' will perceive all the numbers\n",
        "    for divisors in range(2,numbers+1):               # looping through all the numbers from 2 to (numbers-1) ==> 'divisors'\n",
        "      if numbers%divisors==0:                         # if remainder is zero for any devisor, 'numbers' is not prime\n",
        "        break                                         # so we break, no point going through all the numbers\n",
        "    if divisors==numbers:                             # if the break occurs at divisor=numbers, then the number is only divisible by itself\n",
        "      print(numbers)                                  # only, then 'numbers' is a prime number\n",
        "\n",
        "lower_limit=int(input('Enter the lower limit:'))\n",
        "upper_limit=int(input('Enter the upper limit:'))\n",
        "prime_numbers(lower_limit,upper_limit)\n",
        "\n"
      ],
      "metadata": {
        "id": "jPmOWdpl44gG"
      },
      "execution_count": null,
      "outputs": []
    }
  ]
}