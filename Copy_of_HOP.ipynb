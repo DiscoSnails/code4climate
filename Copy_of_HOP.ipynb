{
  "nbformat": 4,
  "nbformat_minor": 0,
  "metadata": {
    "colab": {
      "provenance": [],
      "include_colab_link": true
    },
    "kernelspec": {
      "name": "python3",
      "display_name": "Python 3"
    },
    "language_info": {
      "name": "python"
    }
  },
  "cells": [
    {
      "cell_type": "markdown",
      "metadata": {
        "id": "view-in-github",
        "colab_type": "text"
      },
      "source": [
        "<a href=\"https://colab.research.google.com/github/DiscoSnails/code4climate/blob/main/Copy_of_HOP.ipynb\" target=\"_parent\"><img src=\"https://colab.research.google.com/assets/colab-badge.svg\" alt=\"Open In Colab\"/></a>"
      ]
    },
    {
      "cell_type": "code",
      "execution_count": 25,
      "metadata": {
        "id": "xUquHXVJ_Set",
        "colab": {
          "base_uri": "https://localhost:8080/"
        },
        "outputId": "a17c4eb4-9b2f-4bd5-bad8-b5fd283cd9e6"
      },
      "outputs": [
        {
          "output_type": "stream",
          "name": "stdout",
          "text": [
            "First Number : 1\n",
            "Second Number : 1000\n",
            "1\n",
            "2\n",
            "3\n",
            "4\n",
            "5\n",
            "6\n",
            "7\n",
            "8\n",
            "9\n",
            "153\n",
            "370\n",
            "371\n",
            "407\n"
          ]
        }
      ],
      "source": [
        "# Team HOP\n",
        "# Find All The Armstrong Numbers Between A Range\n",
        "\n",
        "def Armstrong_numbers_in_range(num1, num2):\n",
        "\n",
        "  max = 0\n",
        "  min = 0\n",
        "\n",
        "  if num1 > num2:\n",
        "    max = num1\n",
        "    min = num2\n",
        "  else:\n",
        "    max = num2\n",
        "    min = num1\n",
        "\n",
        "  for num in range(min, max+1):\n",
        "    order = len(str(num))\n",
        "\n",
        "    sum = 0\n",
        "\n",
        "    temp = num\n",
        "\n",
        "    while temp > 0:\n",
        "      digit = temp % 10\n",
        "      sum += digit ** order\n",
        "      temp //= 10\n",
        "\n",
        "\n",
        "    if num == sum:\n",
        "      print(num)\n",
        "\n",
        "\n",
        "num1 = int(input('First Number : '))\n",
        "num2 = int(input('Second Number : '))\n",
        "Armstrong_numbers_in_range(num1, num2)"
      ]
    },
    {
      "cell_type": "code",
      "source": [],
      "metadata": {
        "id": "YWEyawb7vxDo"
      },
      "execution_count": null,
      "outputs": []
    }
  ]
}